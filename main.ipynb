{
 "cells": [
  {
   "cell_type": "code",
   "execution_count": 1,
   "metadata": {},
   "outputs": [],
   "source": [
    "from SpaceTrader import SpaceTrader"
   ]
  },
  {
   "cell_type": "code",
   "execution_count": 2,
   "metadata": {},
   "outputs": [],
   "source": [
    "spaceTrader = SpaceTrader('secrets.json')"
   ]
  },
  {
   "cell_type": "code",
   "execution_count": 5,
   "metadata": {},
   "outputs": [
    {
     "data": {
      "text/plain": [
       "{'symbol': 'RAVEN_1-2',\n",
       " 'nav': {'systemSymbol': 'X1-ZA40',\n",
       "  'waypointSymbol': 'X1-ZA40-99095A',\n",
       "  'route': {'departure': {'symbol': 'X1-ZA40-68707C',\n",
       "    'type': 'ORBITAL_STATION',\n",
       "    'systemSymbol': 'X1-ZA40',\n",
       "    'x': -44,\n",
       "    'y': -22},\n",
       "   'destination': {'symbol': 'X1-ZA40-99095A',\n",
       "    'type': 'ASTEROID_FIELD',\n",
       "    'systemSymbol': 'X1-ZA40',\n",
       "    'x': -9,\n",
       "    'y': 29},\n",
       "   'arrival': '2023-05-19T00:30:34.871Z',\n",
       "   'departureTime': '2023-05-19T00:25:09.871Z'},\n",
       "  'status': 'IN_ORBIT',\n",
       "  'flightMode': 'CRUISE'},\n",
       " 'crew': {'current': 0,\n",
       "  'capacity': 0,\n",
       "  'required': 0,\n",
       "  'rotation': 'STRICT',\n",
       "  'morale': 100,\n",
       "  'wages': 0},\n",
       " 'fuel': {'current': 38,\n",
       "  'capacity': 100,\n",
       "  'consumed': {'amount': 62, 'timestamp': '2023-05-19T00:25:09.885Z'}},\n",
       " 'frame': {'symbol': 'FRAME_DRONE',\n",
       "  'name': 'Frame Drone',\n",
       "  'description': 'A small, unmanned spacecraft used for various tasks, such as surveillance, transportation, or combat.',\n",
       "  'moduleSlots': 3,\n",
       "  'mountingPoints': 2,\n",
       "  'fuelCapacity': 100,\n",
       "  'condition': 100,\n",
       "  'requirements': {'power': 1, 'crew': -3}},\n",
       " 'reactor': {'symbol': 'REACTOR_CHEMICAL_I',\n",
       "  'name': 'Chemical Reactor I',\n",
       "  'description': 'A basic chemical power reactor, used to generate electricity from chemical reactions.',\n",
       "  'condition': 100,\n",
       "  'powerOutput': 15,\n",
       "  'requirements': {'crew': 3}},\n",
       " 'engine': {'symbol': 'ENGINE_IMPULSE_DRIVE_I',\n",
       "  'name': 'Impulse Drive I',\n",
       "  'description': 'A basic low-energy propulsion system that generates thrust for interplanetary travel.',\n",
       "  'condition': 100,\n",
       "  'speed': 2,\n",
       "  'requirements': {'power': 1, 'crew': 0}},\n",
       " 'modules': [{'symbol': 'MODULE_CARGO_HOLD_I',\n",
       "   'name': 'Cargo Hold',\n",
       "   'description': \"A module that increases a ship's cargo capacity.\",\n",
       "   'capacity': 30,\n",
       "   'requirements': {'crew': 0, 'power': 1, 'slots': 1}},\n",
       "  {'symbol': 'MODULE_MINERAL_PROCESSOR_I',\n",
       "   'name': 'Mineral Processor',\n",
       "   'description': 'Crushes and processes extracted minerals and ores into their component parts, filters out impurities, and containerizes them into raw storage units.',\n",
       "   'requirements': {'crew': 0, 'power': 1, 'slots': 2}}],\n",
       " 'mounts': [{'symbol': 'MOUNT_MINING_LASER_I',\n",
       "   'name': 'Mining Laser I',\n",
       "   'description': 'A basic mining laser that can be used to extract valuable minerals from asteroids and other space objects.',\n",
       "   'strength': 10,\n",
       "   'requirements': {'crew': 0, 'power': 1}}],\n",
       " 'registration': {'name': 'RAVEN_1-2',\n",
       "  'factionSymbol': 'COSMIC',\n",
       "  'role': 'EXCAVATOR'},\n",
       " 'cargo': {'capacity': 30, 'units': 0, 'inventory': []}}"
      ]
     },
     "execution_count": 5,
     "metadata": {},
     "output_type": "execute_result"
    }
   ],
   "source": [
    "spaceTrader.ships()['data'][1]"
   ]
  },
  {
   "cell_type": "code",
   "execution_count": 6,
   "metadata": {},
   "outputs": [
    {
     "data": {
      "text/plain": [
       "{'data': {'symbol': 'X1-ZA40',\n",
       "  'sectorSymbol': 'X1',\n",
       "  'type': 'RED_STAR',\n",
       "  'x': 34,\n",
       "  'y': 40,\n",
       "  'waypoints': [{'symbol': 'X1-ZA40-15970B',\n",
       "    'type': 'PLANET',\n",
       "    'x': 10,\n",
       "    'y': 0},\n",
       "   {'symbol': 'X1-ZA40-69371X', 'type': 'MOON', 'x': 10, 'y': 0},\n",
       "   {'symbol': 'X1-ZA40-97262C', 'type': 'MOON', 'x': 10, 'y': 0},\n",
       "   {'symbol': 'X1-ZA40-11513D', 'type': 'MOON', 'x': 10, 'y': 0},\n",
       "   {'symbol': 'X1-ZA40-34964E', 'type': 'PLANET', 'x': 5, 'y': 0},\n",
       "   {'symbol': 'X1-ZA40-99095A', 'type': 'ASTEROID_FIELD', 'x': -9, 'y': 29},\n",
       "   {'symbol': 'X1-ZA40-23636D', 'type': 'GAS_GIANT', 'x': -44, 'y': -22},\n",
       "   {'symbol': 'X1-ZA40-68707C', 'type': 'ORBITAL_STATION', 'x': -44, 'y': -22},\n",
       "   {'symbol': 'X1-ZA40-41138D', 'type': 'PLANET', 'x': 0, 'y': 70},\n",
       "   {'symbol': 'X1-ZA40-28549E', 'type': 'JUMP_GATE', 'x': 2, 'y': 75}],\n",
       "  'factions': []}}"
      ]
     },
     "execution_count": 6,
     "metadata": {},
     "output_type": "execute_result"
    }
   ],
   "source": [
    "spaceTrader.systems('X1-ZA40')"
   ]
  }
 ],
 "metadata": {
  "kernelspec": {
   "display_name": "Python 3",
   "language": "python",
   "name": "python3"
  },
  "language_info": {
   "codemirror_mode": {
    "name": "ipython",
    "version": 3
   },
   "file_extension": ".py",
   "mimetype": "text/x-python",
   "name": "python",
   "nbconvert_exporter": "python",
   "pygments_lexer": "ipython3",
   "version": "3.10.2"
  },
  "orig_nbformat": 4
 },
 "nbformat": 4,
 "nbformat_minor": 2
}
